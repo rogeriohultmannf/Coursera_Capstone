{
    "nbformat_minor": 1, 
    "cells": [
        {
            "source": "# Coursera Capstone Project - The Battle of Neighborhoods\n## Identifying the best neighborhood to open a restaurant\n\n### Introduction / business problem\nToronto is a very large city with almost 3 million inhabitants and is the state capital of Ontario. Toronto's economy is one of the largest and strongest in North America. Toronto is the main industrial, commercial and financial hub of Canada, and one of the main cities of the continent. \n\nTaking into account all the economic and social aspects of the city, there is a great opportunity to make a profit from a restaurant. It is a city of a lot of production, a lot of work and also a lot of tourism. And the food sector is a perennial sector in today's industry.\n\nSo the main purpose of this study is to find the best place to open a restaurant. Analyzes will be made of which neighborhood has fewer restaurants and which neighborhood has the lowest average customer ratings. This information will help in building the business, whether it is better to build a simple restaurant where there are not many places or to build a more refined restaurant in places with low grade.\n\nBuilding a new restaurant in a region that doesn't have many places or being a high quality restaurant where only low quality ones exist are interesting opportunities.\n\n#### Data that will be used\nData from the Foursquare Development API will be used. Data such as location, neighborhood, type and customer rating. To solve the problem, a table will be built containing neighborhood, number of restaurants and average rating of these restaurants.", 
            "cell_type": "markdown", 
            "metadata": {
                "collapsed": true
            }
        }
    ], 
    "metadata": {
        "kernelspec": {
            "display_name": "Python 3.6", 
            "name": "python3", 
            "language": "python"
        }, 
        "language_info": {
            "mimetype": "text/x-python", 
            "nbconvert_exporter": "python", 
            "version": "3.6.8", 
            "name": "python", 
            "file_extension": ".py", 
            "pygments_lexer": "ipython3", 
            "codemirror_mode": {
                "version": 3, 
                "name": "ipython"
            }
        }
    }, 
    "nbformat": 4
}